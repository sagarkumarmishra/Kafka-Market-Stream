{
 "cells": [
  {
   "cell_type": "code",
   "execution_count": null,
   "id": "6311184c-de18-4cbb-a6cd-d555d293b3ab",
   "metadata": {},
   "outputs": [],
   "source": []
  }
 ],
 "metadata": {
  "kernelspec": {
   "display_name": "",
   "name": ""
  },
  "language_info": {
   "name": ""
  }
 },
 "nbformat": 4,
 "nbformat_minor": 5
}
