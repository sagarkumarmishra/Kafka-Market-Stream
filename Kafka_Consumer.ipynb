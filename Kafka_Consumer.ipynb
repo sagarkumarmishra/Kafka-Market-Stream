{
 "cells": [
  {
   "cell_type": "code",
   "execution_count": null,
   "id": "72724ded-70cb-4a8d-aaf2-7f5d93525765",
   "metadata": {},
   "outputs": [],
   "source": []
  }
 ],
 "metadata": {
  "kernelspec": {
   "display_name": "",
   "name": ""
  },
  "language_info": {
   "name": ""
  }
 },
 "nbformat": 4,
 "nbformat_minor": 5
}
